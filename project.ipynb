{
 "cells": [
  {
   "cell_type": "markdown",
   "metadata": {},
   "source": [
    "# Here goes the Project title. Catchy _but_ descriptive."
   ]
  },
  {
   "cell_type": "code",
   "execution_count": 1,
   "metadata": {},
   "outputs": [],
   "source": [
    "# This is a code cell without any tag. You can put convenience code here,\n",
    "# but it won't be included in any way in the final project.\n",
    "# For example, to be able to run tests locally in the notebook\n",
    "# you need to install the following:\n",
    "# install.packages(\"devtools\")\n",
    "# install.packages(testthat\")\n",
    "# devtools::install_github('datacamp/IRkernel.testthat')\n",
    "\n",
    "# This allows .... to be used as placeholder value in the sample code cells\n",
    ".... <- NULL "
   ]
  },
  {
   "cell_type": "markdown",
   "metadata": {},
   "source": [
    "This is a markdown cell without any tag. You can put text / TODOs / etc. here\n",
    "but it won't be included in any way in the final project.\n",
    "\n",
    "For example, here is the documentation of the format of a DataCamp Project notebook: https://authoring.datacamp.com/projects/projects-format.html"
   ]
  },
  {
   "cell_type": "markdown",
   "metadata": {
    "tags": [
     "type:NotebookTask"
    ]
   },
   "source": [
    "## 1. Here goes the title of the first task"
   ]
  },
  {
   "cell_type": "markdown",
   "metadata": {
    "tags": [
     "@context"
    ]
   },
   "source": [
    "Context / background / story / etc. This will show up in the student's notebook. It should at most have 800 characters and/or 3 paragraphs.\n",
    "\n",
    "You can include images if you put them in the `img` folder. But make sure they have a permissive license.\n",
    "\n",
    "![](img/eclipse.png)"
   ]
  },
  {
   "cell_type": "markdown",
   "metadata": {
    "tags": [
     "@instructions"
    ]
   },
   "source": [
    "The task instructions start with a brief sentence framing the task.\n",
    "\n",
    "- The specific task instructions go in a bullet point list.\n",
    "- One bullet per sub task.\n",
    "- At most 4 bullets.\n",
    "\n",
    "<hr>\n",
    "\n",
    "## Good to know\n",
    "\n",
    "The `@instructions` to the first task should include a \"Good to know\" section where you direct the student to resources that could be useful _throughout_ the Project. This could be external documentation, DataCamp courses and exercises, cheat sheets, Stack Overflow answers, etc. "
   ]
  },
  {
   "cell_type": "markdown",
   "metadata": {
    "tags": [
     "@hint"
    ]
   },
   "source": [
    "This is a hint the student will get if they click the hint button at the bottom of the instructions. It's the last help the student can get, so make it helpful. \n",
    "\n",
    "```\n",
    "# Feel free to include links to documentation.\n",
    "print(\"And code snippets in the hint.\")\n",
    "```"
   ]
  },
  {
   "cell_type": "code",
   "execution_count": 4,
   "metadata": {
    "tags": [
     "@sample_code"
    ]
   },
   "outputs": [
    {
     "name": "stdout",
     "output_type": "stream",
     "text": [
      "\r",
      "Iteration: 1, Log-Lik: -2668.786, Max-Change: 0.18243\r",
      "Iteration: 2, Log-Lik: -2663.691, Max-Change: 0.13637\r",
      "Iteration: 3, Log-Lik: -2661.454, Max-Change: 0.10231\r",
      "Iteration: 4, Log-Lik: -2659.430, Max-Change: 0.04181\r",
      "Iteration: 5, Log-Lik: -2659.241, Max-Change: 0.03417\r",
      "Iteration: 6, Log-Lik: -2659.113, Max-Change: 0.02911\r",
      "Iteration: 7, Log-Lik: -2658.812, Max-Change: 0.00456\r",
      "Iteration: 8, Log-Lik: -2658.809, Max-Change: 0.00363\r",
      "Iteration: 9, Log-Lik: -2658.808, Max-Change: 0.00273\r",
      "Iteration: 10, Log-Lik: -2658.806, Max-Change: 0.00144\r",
      "Iteration: 11, Log-Lik: -2658.806, Max-Change: 0.00118\r",
      "Iteration: 12, Log-Lik: -2658.806, Max-Change: 0.00101\r",
      "Iteration: 13, Log-Lik: -2658.805, Max-Change: 0.00042\r",
      "Iteration: 14, Log-Lik: -2658.805, Max-Change: 0.00025\r",
      "Iteration: 15, Log-Lik: -2658.805, Max-Change: 0.00026\r",
      "Iteration: 16, Log-Lik: -2658.805, Max-Change: 0.00023\r",
      "Iteration: 17, Log-Lik: -2658.805, Max-Change: 0.00023\r",
      "Iteration: 18, Log-Lik: -2658.805, Max-Change: 0.00021\r",
      "Iteration: 19, Log-Lik: -2658.805, Max-Change: 0.00019\r",
      "Iteration: 20, Log-Lik: -2658.805, Max-Change: 0.00017\r",
      "Iteration: 21, Log-Lik: -2658.805, Max-Change: 0.00017\r",
      "Iteration: 22, Log-Lik: -2658.805, Max-Change: 0.00015\r",
      "Iteration: 23, Log-Lik: -2658.805, Max-Change: 0.00015\r",
      "Iteration: 24, Log-Lik: -2658.805, Max-Change: 0.00013\r",
      "Iteration: 25, Log-Lik: -2658.805, Max-Change: 0.00013\r",
      "Iteration: 26, Log-Lik: -2658.805, Max-Change: 0.00011\r",
      "Iteration: 27, Log-Lik: -2658.805, Max-Change: 0.00011\r",
      "Iteration: 28, Log-Lik: -2658.805, Max-Change: 0.00010"
     ]
    },
    {
     "data": {
      "text/html": [
       "<dl>\n",
       "\t<dt>$Item.1</dt>\n",
       "\t\t<dd><table>\n",
       "<thead><tr><th></th><th scope=col>a1</th><th scope=col>d</th><th scope=col>g</th><th scope=col>u</th></tr></thead>\n",
       "<tbody>\n",
       "\t<tr><th scope=row>par</th><td>0.9879254</td><td>1.85606  </td><td>0        </td><td>1        </td></tr>\n",
       "</tbody>\n",
       "</table>\n",
       "</dd>\n",
       "\t<dt>$Item.2</dt>\n",
       "\t\t<dd><table>\n",
       "<thead><tr><th></th><th scope=col>a1</th><th scope=col>d</th><th scope=col>g</th><th scope=col>u</th></tr></thead>\n",
       "<tbody>\n",
       "\t<tr><th scope=row>par</th><td>1.080885 </td><td>0.8079786</td><td>0        </td><td>1        </td></tr>\n",
       "</tbody>\n",
       "</table>\n",
       "</dd>\n",
       "\t<dt>$Item.3</dt>\n",
       "\t\t<dd><table>\n",
       "<thead><tr><th></th><th scope=col>a1</th><th scope=col>d</th><th scope=col>g</th><th scope=col>u</th></tr></thead>\n",
       "<tbody>\n",
       "\t<tr><th scope=row>par</th><td>1.705801</td><td>1.804219</td><td>0       </td><td>1       </td></tr>\n",
       "</tbody>\n",
       "</table>\n",
       "</dd>\n",
       "\t<dt>$Item.4</dt>\n",
       "\t\t<dd><table>\n",
       "<thead><tr><th></th><th scope=col>a1</th><th scope=col>d</th><th scope=col>g</th><th scope=col>u</th></tr></thead>\n",
       "<tbody>\n",
       "\t<tr><th scope=row>par</th><td>0.7651853</td><td>0.4859966</td><td>0        </td><td>1        </td></tr>\n",
       "</tbody>\n",
       "</table>\n",
       "</dd>\n",
       "\t<dt>$Item.5</dt>\n",
       "\t\t<dd><table>\n",
       "<thead><tr><th></th><th scope=col>a1</th><th scope=col>d</th><th scope=col>g</th><th scope=col>u</th></tr></thead>\n",
       "<tbody>\n",
       "\t<tr><th scope=row>par</th><td>0.735798</td><td>1.854513</td><td>0       </td><td>1       </td></tr>\n",
       "</tbody>\n",
       "</table>\n",
       "</dd>\n",
       "\t<dt>$GroupPars</dt>\n",
       "\t\t<dd><table>\n",
       "<thead><tr><th></th><th scope=col>MEAN_1</th><th scope=col>COV_11</th></tr></thead>\n",
       "<tbody>\n",
       "\t<tr><th scope=row>par</th><td>0</td><td>1</td></tr>\n",
       "</tbody>\n",
       "</table>\n",
       "</dd>\n",
       "</dl>\n"
      ],
      "text/latex": [
       "\\begin{description}\n",
       "\\item[\\$Item.1] \\begin{tabular}{r|llll}\n",
       "  & a1 & d & g & u\\\\\n",
       "\\hline\n",
       "\tpar & 0.9879254 & 1.85606   & 0         & 1        \\\\\n",
       "\\end{tabular}\n",
       "\n",
       "\\item[\\$Item.2] \\begin{tabular}{r|llll}\n",
       "  & a1 & d & g & u\\\\\n",
       "\\hline\n",
       "\tpar & 1.080885  & 0.8079786 & 0         & 1        \\\\\n",
       "\\end{tabular}\n",
       "\n",
       "\\item[\\$Item.3] \\begin{tabular}{r|llll}\n",
       "  & a1 & d & g & u\\\\\n",
       "\\hline\n",
       "\tpar & 1.705801 & 1.804219 & 0        & 1       \\\\\n",
       "\\end{tabular}\n",
       "\n",
       "\\item[\\$Item.4] \\begin{tabular}{r|llll}\n",
       "  & a1 & d & g & u\\\\\n",
       "\\hline\n",
       "\tpar & 0.7651853 & 0.4859966 & 0         & 1        \\\\\n",
       "\\end{tabular}\n",
       "\n",
       "\\item[\\$Item.5] \\begin{tabular}{r|llll}\n",
       "  & a1 & d & g & u\\\\\n",
       "\\hline\n",
       "\tpar & 0.735798 & 1.854513 & 0        & 1       \\\\\n",
       "\\end{tabular}\n",
       "\n",
       "\\item[\\$GroupPars] \\begin{tabular}{r|ll}\n",
       "  & MEAN\\_1 & COV\\_11\\\\\n",
       "\\hline\n",
       "\tpar & 0 & 1\\\\\n",
       "\\end{tabular}\n",
       "\n",
       "\\end{description}\n"
      ],
      "text/markdown": [
       "$Item.1\n",
       ":   \n",
       "| <!--/--> | a1 | d | g | u | \n",
       "|---|\n",
       "| par | 0.9879254 | 1.85606   | 0         | 1         | \n",
       "\n",
       "\n",
       "\n",
       "$Item.2\n",
       ":   \n",
       "| <!--/--> | a1 | d | g | u | \n",
       "|---|\n",
       "| par | 1.080885  | 0.8079786 | 0         | 1         | \n",
       "\n",
       "\n",
       "\n",
       "$Item.3\n",
       ":   \n",
       "| <!--/--> | a1 | d | g | u | \n",
       "|---|\n",
       "| par | 1.705801 | 1.804219 | 0        | 1        | \n",
       "\n",
       "\n",
       "\n",
       "$Item.4\n",
       ":   \n",
       "| <!--/--> | a1 | d | g | u | \n",
       "|---|\n",
       "| par | 0.7651853 | 0.4859966 | 0         | 1         | \n",
       "\n",
       "\n",
       "\n",
       "$Item.5\n",
       ":   \n",
       "| <!--/--> | a1 | d | g | u | \n",
       "|---|\n",
       "| par | 0.735798 | 1.854513 | 0        | 1        | \n",
       "\n",
       "\n",
       "\n",
       "$GroupPars\n",
       ":   \n",
       "| <!--/--> | MEAN_1 | COV_11 | \n",
       "|---|\n",
       "| par | 0 | 1 | \n",
       "\n",
       "\n",
       "\n",
       "\n",
       "\n"
      ],
      "text/plain": [
       "$Item.1\n",
       "       a1     d g u\n",
       "par 0.988 1.856 0 1\n",
       "\n",
       "$Item.2\n",
       "       a1     d g u\n",
       "par 1.081 0.808 0 1\n",
       "\n",
       "$Item.3\n",
       "       a1     d g u\n",
       "par 1.706 1.804 0 1\n",
       "\n",
       "$Item.4\n",
       "       a1     d g u\n",
       "par 0.765 0.486 0 1\n",
       "\n",
       "$Item.5\n",
       "       a1     d g u\n",
       "par 0.736 1.855 0 1\n",
       "\n",
       "$GroupPars\n",
       "    MEAN_1 COV_11\n",
       "par      0      1\n"
      ]
     },
     "metadata": {},
     "output_type": "display_data"
    },
    {
     "name": "stdout",
     "output_type": "stream",
     "text": [
      "          F1    h2\n",
      "Item.1 0.502 0.252\n",
      "Item.2 0.536 0.287\n",
      "Item.3 0.708 0.501\n",
      "Item.4 0.410 0.168\n",
      "Item.5 0.397 0.157\n",
      "\n",
      "SS loadings:  1.366 \n",
      "Proportion Var:  0.273 \n",
      "\n",
      "Factor correlations: \n",
      "\n",
      "   F1\n",
      "F1  1\n"
     ]
    },
    {
     "data": {},
     "metadata": {},
     "output_type": "display_data"
    },
    {
     "data": {},
     "metadata": {},
     "output_type": "display_data"
    },
    {
     "data": {
      "image/png": "[encoded data removed]",
      "text/plain": [
       "plot without title"
      ]
     },
     "metadata": {},
     "output_type": "display_data"
    },
    {
     "data": {
      "image/png": "[encoded data removed]",
      "text/plain": [
       "plot without title"
      ]
     },
     "metadata": {},
     "output_type": "display_data"
    }
   ],
   "source": [
    "library(mirt)\n",
    "\n",
    "data <- expand.table(LSAT7)\n",
    "\n",
    "mod1 <- mirt(data, 1)\n",
    "coef(mod1)\n",
    "summary(mod1)\n",
    "plot(mod1)\n",
    "plot(mod1, type = ....)"
   ]
  },
  {
   "cell_type": "code",
   "execution_count": 3,
   "metadata": {
    "tags": [
     "@solution"
    ]
   },
   "outputs": [
    {
     "data": {
      "text/html": [
       "<table>\n",
       "<thead><tr><th scope=col>sepal_length</th><th scope=col>sepal_width</th><th scope=col>petal_length</th><th scope=col>petal_width</th><th scope=col>species</th></tr></thead>\n",
       "<tbody>\n",
       "\t<tr><td>5.1   </td><td>3.5   </td><td>1.4   </td><td>0.2   </td><td>setosa</td></tr>\n",
       "\t<tr><td>4.9   </td><td>3.0   </td><td>1.4   </td><td>0.2   </td><td>setosa</td></tr>\n",
       "\t<tr><td>4.7   </td><td>3.2   </td><td>1.3   </td><td>0.2   </td><td>setosa</td></tr>\n",
       "\t<tr><td>4.6   </td><td>3.1   </td><td>1.5   </td><td>0.2   </td><td>setosa</td></tr>\n",
       "\t<tr><td>5.0   </td><td>3.6   </td><td>1.4   </td><td>0.2   </td><td>setosa</td></tr>\n",
       "\t<tr><td>5.4   </td><td>3.9   </td><td>1.7   </td><td>0.4   </td><td>setosa</td></tr>\n",
       "</tbody>\n",
       "</table>\n"
      ],
      "text/latex": [
       "\\begin{tabular}{r|lllll}\n",
       " sepal\\_length & sepal\\_width & petal\\_length & petal\\_width & species\\\\\n",
       "\\hline\n",
       "\t 5.1    & 3.5    & 1.4    & 0.2    & setosa\\\\\n",
       "\t 4.9    & 3.0    & 1.4    & 0.2    & setosa\\\\\n",
       "\t 4.7    & 3.2    & 1.3    & 0.2    & setosa\\\\\n",
       "\t 4.6    & 3.1    & 1.5    & 0.2    & setosa\\\\\n",
       "\t 5.0    & 3.6    & 1.4    & 0.2    & setosa\\\\\n",
       "\t 5.4    & 3.9    & 1.7    & 0.4    & setosa\\\\\n",
       "\\end{tabular}\n"
      ],
      "text/markdown": [
       "\n",
       "sepal_length | sepal_width | petal_length | petal_width | species | \n",
       "|---|---|---|---|---|---|\n",
       "| 5.1    | 3.5    | 1.4    | 0.2    | setosa | \n",
       "| 4.9    | 3.0    | 1.4    | 0.2    | setosa | \n",
       "| 4.7    | 3.2    | 1.3    | 0.2    | setosa | \n",
       "| 4.6    | 3.1    | 1.5    | 0.2    | setosa | \n",
       "| 5.0    | 3.6    | 1.4    | 0.2    | setosa | \n",
       "| 5.4    | 3.9    | 1.7    | 0.4    | setosa | \n",
       "\n",
       "\n"
      ],
      "text/plain": [
       "  sepal_length sepal_width petal_length petal_width species\n",
       "1 5.1          3.5         1.4          0.2         setosa \n",
       "2 4.9          3.0         1.4          0.2         setosa \n",
       "3 4.7          3.2         1.3          0.2         setosa \n",
       "4 4.6          3.1         1.5          0.2         setosa \n",
       "5 5.0          3.6         1.4          0.2         setosa \n",
       "6 5.4          3.9         1.7          0.4         setosa "
      ]
     },
     "metadata": {},
     "output_type": "display_data"
    }
   ],
   "source": [
    "library(mirt)\n",
    "\n",
    "data <- expand.table(LSAT7)\n",
    "\n",
    "mod1 <- mirt(data, 1)\n",
    "coef(mod1)\n",
    "summary(mod1)\n",
    "plot(mod1)\n",
    "plot(mod1, type = 'trace')"
   ]
  },
  {
   "cell_type": "code",
   "execution_count": 4,
   "metadata": {
    "tags": [
     "@tests"
    ]
   },
   "outputs": [
    {
     "data": {
      "application/json": "{\"success\":true,\"summary\":{\"tests\":1,\"failures\":0,\"errors\":0},\"tests\":[{\"name\":\"the answer is correct\",\"message\":\"like_this == \\\"missing part filled in\\\" isn't true.\\nThe student will see this info if the test fails.\",\"success\":true,\"outcome\":\"success\"}]}"
     },
     "metadata": {},
     "output_type": "display_data"
    },
    {
     "data": {
      "application/json": "{\"success\":true,\"summary\":{\"tests\":1,\"failures\":0,\"errors\":0},\"tests\":[{\"name\":\"the answer is correct\",\"message\":\"like_this == \\\"missing part filled in\\\" isn't true.\\nThe student will see this info if the test fails.\",\"success\":true,\"outcome\":\"success\"}]}"
     },
     "metadata": {},
     "output_type": "display_data"
    },
    {
     "data": {
      "text/plain": [
       "1/1 tests passed"
      ]
     },
     "metadata": {},
     "output_type": "display_data"
    }
   ],
   "source": [
    "# These packages need to be loaded in the first `@tests` cell. \n",
    "library(testthat) \n",
    "library(IRkernel.testthat)\n",
    "\n",
    "# Then follows one or more tests of the students code. \n",
    "# The @solution should pass the tests.\n",
    "# The purpose of the tests is to try to catch common errors and to \n",
    "# give the student a hint on how to resolve these errors.\n",
    "\n",
    "run_tests({\n",
    "    test_that(\"the answer is correct\", {\n",
    "    expect_true(TRUE, \n",
    "        info = \"The student will see this info if the test fails.\")\n",
    "    })\n",
    "    # You can have more than one test\n",
    "})"
   ]
  },
  {
   "cell_type": "markdown",
   "metadata": {
    "tags": [
     "type:NotebookTask"
    ]
   },
   "source": [
    "## 2. Here goes the title of the second task"
   ]
  },
  {
   "cell_type": "markdown",
   "metadata": {
    "tags": [
     "@context"
    ]
   },
   "source": [
    "Context / background / story / etc. This will show up in the student's notebook. It should at most have 800 characters and/or 3 paragraphs."
   ]
  },
  {
   "cell_type": "markdown",
   "metadata": {
    "tags": [
     "@instructions"
    ]
   },
   "source": [
    "The task instructions start with a brief sentence framing the task.\n",
    "\n",
    "- The specific task instructions go in a bullet point list.\n",
    "- One bullet per sub task.\n",
    "- At most 4 bullets.\n",
    "\n",
    "<hr>\n",
    "\n",
    "Give more info, context, and links to external documentation under the horizontal ruler. The instructions should at most have 800 characters."
   ]
  },
  {
   "cell_type": "markdown",
   "metadata": {
    "tags": [
     "@hint"
    ]
   },
   "source": [
    "This is a hint the student will get if they click the hint button at the bottom of the instructions. It's the last help the student can get, so make it helpful. \n",
    "\n",
    "```\n",
    "# Feel free to include links to documentation.\n",
    "print(\"And code snippets in the hint.\")\n",
    "```"
   ]
  },
  {
   "cell_type": "code",
   "execution_count": 5,
   "metadata": {
    "collapsed": true,
    "tags": [
     "@sample_code"
    ]
   },
   "outputs": [],
   "source": [
    "mod2 <- mirt(data, 1, SE = TRUE, SE.type = 'SEM')\n",
    "\n",
    "plot(mod2, type = 'info') #test information\n",
    "plot(mod2, MI=200)        #expected total score with 95% confidence intervals"
   ]
  },
  {
   "cell_type": "code",
   "execution_count": 6,
   "metadata": {
    "collapsed": true,
    "tags": [
     "@solution"
    ]
   },
   "outputs": [],
   "source": [
    "mod2 <- mirt(data, 1, SE = TRUE, SE.type = 'SEM')\n",
    "\n",
    "plot(mod2, type = 'info') #test information\n",
    "plot(mod2, MI=200)        #expected total score with 95% confidence intervals"
   ]
  },
  {
   "cell_type": "code",
   "execution_count": 7,
   "metadata": {
    "tags": [
     "@tests"
    ]
   },
   "outputs": [
    {
     "data": {
      "application/json": "{\"success\":true,\"summary\":{\"tests\":1,\"failures\":0,\"errors\":0},\"tests\":[{\"name\":\"the answer is correct\",\"message\":\"like_this == \\\"missing part filled in\\\" isn't true.\\nThe student will see this info if the test fails.\",\"success\":true,\"outcome\":\"success\"}]}"
     },
     "metadata": {},
     "output_type": "display_data"
    },
    {
     "data": {
      "application/json": "{\"success\":true,\"summary\":{\"tests\":1,\"failures\":0,\"errors\":0},\"tests\":[{\"name\":\"the answer is correct\",\"message\":\"like_this == \\\"missing part filled in\\\" isn't true.\\nThe student will see this info if the test fails.\",\"success\":true,\"outcome\":\"success\"}]}"
     },
     "metadata": {},
     "output_type": "display_data"
    },
    {
     "data": {
      "text/plain": [
       "1/1 tests passed"
      ]
     },
     "metadata": {},
     "output_type": "display_data"
    }
   ],
   "source": [
    "# one or more tests of the students code. \n",
    "# The @solution should pass the tests.\n",
    "# The purpose of the tests is to try to catch common errors and to \n",
    "# give the student a hint on how to resolve these errors.\n",
    "run_tests({\n",
    "    test_that(\"the answer is correct\", {\n",
    "    expect_true(TRUE, \n",
    "        info = \"The student will see this info if the test fails.\")\n",
    "    })\n",
    "    # You can have more than one test\n",
    "})"
   ]
  },
  {
   "cell_type": "markdown",
   "metadata": {
    "tags": [
     "type:NotebookTask"
    ]
   },
   "source": [
    "## 3. Here goes the title of the third task"
   ]
  },
  {
   "cell_type": "markdown",
   "metadata": {
    "tags": [
     "@context"
    ]
   },
   "source": [
    "Context / background / story / etc. This will show up in the student's notebook. It should at most have 800 characters and/or 3 paragraphs."
   ]
  },
  {
   "cell_type": "markdown",
   "metadata": {
    "tags": [
     "@instructions"
    ]
   },
   "source": [
    "The task instructions start with a brief sentence framing the task.\n",
    "\n",
    "- The specific task instructions go in a bullet point list.\n",
    "- One bullet per sub task.\n",
    "- At most 4 bullets.\n",
    "\n",
    "<hr>\n",
    "\n",
    "Give more info, context, and links to external documentation under the horizontal ruler. The instructions should at most have 800 characters."
   ]
  },
  {
   "cell_type": "markdown",
   "metadata": {
    "tags": [
     "@hint"
    ]
   },
   "source": [
    "This is a hint the student will get if they click the hint button at the bottom of the instructions. It's the last help the student can get, so make it helpful. \n",
    "\n",
    "```\n",
    "# Feel free to include links to documentation.\n",
    "print(\"And code snippets in the hint.\")\n",
    "```"
   ]
  },
  {
   "cell_type": "code",
   "execution_count": 8,
   "metadata": {
    "collapsed": true,
    "tags": [
     "@sample_code"
    ]
   },
   "outputs": [],
   "source": [
    "# This is the sample code the student will see. It should\n",
    "# consist of up to 10 lines of code and comments, and the\n",
    "# student should have to complete at most 5 lines of code.\n",
    "\n",
    "# Rule of thumb: Each bullet point in @instructions should\n",
    "# correspond to a comment in the @sample_code\n",
    "\n",
    "# Indicate missing code with ....\n",
    "like_this <- ....\n",
    "# or when a line or more is required, like this:\n",
    "# .... YOUR CODE FOR TASK 3 ...."
   ]
  },
  {
   "cell_type": "code",
   "execution_count": 9,
   "metadata": {
    "collapsed": true,
    "tags": [
     "@solution"
    ]
   },
   "outputs": [],
   "source": [
    "# Your solution code. This won't be shown to the student.\n",
    "\n",
    "# The @solution should mirror the corresponding @sample_code,\n",
    "# but with the missing parts filled in.\n",
    "like_this <- \"missing part filled in\"\n",
    "\n",
    "# It should consist of up to 10 lines of code and comments \n",
    "# and take at most 5 seconds to execute on an average laptop."
   ]
  },
  {
   "cell_type": "code",
   "execution_count": 10,
   "metadata": {
    "tags": [
     "@tests"
    ]
   },
   "outputs": [
    {
     "data": {
      "application/json": "{\"success\":true,\"summary\":{\"tests\":1,\"failures\":0,\"errors\":0},\"tests\":[{\"name\":\"the answer is correct\",\"message\":\"like_this == \\\"missing part filled in\\\" isn't true.\\nThe student will see this info if the test fails.\",\"success\":true,\"outcome\":\"success\"}]}"
     },
     "metadata": {},
     "output_type": "display_data"
    },
    {
     "data": {
      "application/json": "{\"success\":true,\"summary\":{\"tests\":1,\"failures\":0,\"errors\":0},\"tests\":[{\"name\":\"the answer is correct\",\"message\":\"like_this == \\\"missing part filled in\\\" isn't true.\\nThe student will see this info if the test fails.\",\"success\":true,\"outcome\":\"success\"}]}"
     },
     "metadata": {},
     "output_type": "display_data"
    },
    {
     "data": {
      "text/plain": [
       "1/1 tests passed"
      ]
     },
     "metadata": {},
     "output_type": "display_data"
    }
   ],
   "source": [
    "# one or more tests of the students code. \n",
    "# The @solution should pass the tests.\n",
    "# The purpose of the tests is to try to catch common errors and to \n",
    "# give the student a hint on how to resolve these errors.\n",
    "run_tests({\n",
    "    test_that(\"the answer is correct\", {\n",
    "    expect_true(like_this == \"missing part filled in\", \n",
    "        info = \"The student will see this info if the test fails.\")\n",
    "    })\n",
    "    # You can have more than one test\n",
    "})"
   ]
  },
  {
   "cell_type": "markdown",
   "metadata": {
    "tags": [
     "type:NotebookTask"
    ]
   },
   "source": [
    "## 4. Here goes the title of the fourth task"
   ]
  },
  {
   "cell_type": "markdown",
   "metadata": {
    "tags": [
     "@context"
    ]
   },
   "source": [
    "Context / background / story / etc. This will show up in the student's notebook. It should at most have 800 characters and/or 3 paragraphs."
   ]
  },
  {
   "cell_type": "markdown",
   "metadata": {
    "tags": [
     "@instructions"
    ]
   },
   "source": [
    "The task instructions start with a brief sentence framing the task.\n",
    "\n",
    "- The specific task instructions go in a bullet point list.\n",
    "- One bullet per sub task.\n",
    "- At most 4 bullets.\n",
    "\n",
    "<hr>\n",
    "\n",
    "Give more info, context, and links to external documentation under the horizontal ruler. The instructions should at most have 800 characters."
   ]
  },
  {
   "cell_type": "markdown",
   "metadata": {
    "tags": [
     "@hint"
    ]
   },
   "source": [
    "This is a hint the student will get if they click the hint button at the bottom of the instructions. It's the last help the student can get, so make it helpful. \n",
    "\n",
    "```\n",
    "# Feel free to include links to documentation.\n",
    "print(\"And code snippets in the hint.\")\n",
    "```"
   ]
  },
  {
   "cell_type": "code",
   "execution_count": 11,
   "metadata": {
    "collapsed": true,
    "tags": [
     "@sample_code"
    ]
   },
   "outputs": [],
   "source": [
    "# This is the sample code the student will see. It should\n",
    "# consist of up to 10 lines of code and comments, and the\n",
    "# student should have to complete at most 5 lines of code.\n",
    "\n",
    "# Rule of thumb: Each bullet point in @instructions should\n",
    "# correspond to a comment in the @sample_code\n",
    "\n",
    "# Indicate missing code with ....\n",
    "like_this <- ....\n",
    "# or when a line or more is required, like this:\n",
    "# .... YOUR CODE FOR TASK 4 ...."
   ]
  },
  {
   "cell_type": "code",
   "execution_count": 12,
   "metadata": {
    "collapsed": true,
    "tags": [
     "@solution"
    ]
   },
   "outputs": [],
   "source": [
    "# Your solution code. This won't be shown to the student.\n",
    "\n",
    "# The @solution should mirror the corresponding @sample_code,\n",
    "# but with the missing parts filled in.\n",
    "like_this <- \"missing part filled in\"\n",
    "\n",
    "# It should consist of up to 10 lines of code and comments \n",
    "# and take at most 5 seconds to execute on an average laptop."
   ]
  },
  {
   "cell_type": "code",
   "execution_count": 13,
   "metadata": {
    "tags": [
     "@tests"
    ]
   },
   "outputs": [
    {
     "data": {
      "application/json": "{\"success\":true,\"summary\":{\"tests\":1,\"failures\":0,\"errors\":0},\"tests\":[{\"name\":\"the answer is correct\",\"message\":\"like_this == \\\"missing part filled in\\\" isn't true.\\nThe student will see this info if the test fails.\",\"success\":true,\"outcome\":\"success\"}]}"
     },
     "metadata": {},
     "output_type": "display_data"
    },
    {
     "data": {
      "application/json": "{\"success\":true,\"summary\":{\"tests\":1,\"failures\":0,\"errors\":0},\"tests\":[{\"name\":\"the answer is correct\",\"message\":\"like_this == \\\"missing part filled in\\\" isn't true.\\nThe student will see this info if the test fails.\",\"success\":true,\"outcome\":\"success\"}]}"
     },
     "metadata": {},
     "output_type": "display_data"
    },
    {
     "data": {
      "text/plain": [
       "1/1 tests passed"
      ]
     },
     "metadata": {},
     "output_type": "display_data"
    }
   ],
   "source": [
    "# one or more tests of the students code. \n",
    "# The @solution should pass the tests.\n",
    "# The purpose of the tests is to try to catch common errors and to \n",
    "# give the student a hint on how to resolve these errors.\n",
    "run_tests({\n",
    "    test_that(\"the answer is correct\", {\n",
    "    expect_true(like_this == \"missing part filled in\", \n",
    "        info = \"The student will see this info if the test fails.\")\n",
    "    })\n",
    "    # You can have more than one test\n",
    "})"
   ]
  },
  {
   "cell_type": "markdown",
   "metadata": {
    "tags": [
     "type:NotebookTask"
    ]
   },
   "source": [
    "## 5. Here goes the title of the fifth task"
   ]
  },
  {
   "cell_type": "markdown",
   "metadata": {
    "tags": [
     "@context"
    ]
   },
   "source": [
    "Context / background / story / etc. This will show up in the student's notebook. It should at most have 800 characters and/or 3 paragraphs."
   ]
  },
  {
   "cell_type": "markdown",
   "metadata": {
    "tags": [
     "@instructions"
    ]
   },
   "source": [
    "The task instructions start with a brief sentence framing the task.\n",
    "\n",
    "- The specific task instructions go in a bullet point list.\n",
    "- One bullet per sub task.\n",
    "- At most 4 bullets.\n",
    "\n",
    "<hr>\n",
    "\n",
    "Give more info, context, and links to external documentation under the horizontal ruler. The instructions should at most have 800 characters."
   ]
  },
  {
   "cell_type": "markdown",
   "metadata": {
    "tags": [
     "@hint"
    ]
   },
   "source": [
    "This is a hint the student will get if they click the hint button at the bottom of the instructions. It's the last help the student can get, so make it helpful. \n",
    "\n",
    "```\n",
    "# Feel free to include links to documentation.\n",
    "print(\"And code snippets in the hint.\")\n",
    "```"
   ]
  },
  {
   "cell_type": "code",
   "execution_count": 14,
   "metadata": {
    "collapsed": true,
    "tags": [
     "@sample_code"
    ]
   },
   "outputs": [],
   "source": [
    "# This is the sample code the student will see. It should\n",
    "# consist of up to 10 lines of code and comments, and the\n",
    "# student should have to complete at most 5 lines of code.\n",
    "\n",
    "# Rule of thumb: Each bullet point in @instructions should\n",
    "# correspond to a comment in the @sample_code\n",
    "\n",
    "# Indicate missing code with ....\n",
    "like_this <- ....\n",
    "# or when a line or more is required, like this:\n",
    "# .... YOUR CODE FOR TASK 5 ...."
   ]
  },
  {
   "cell_type": "code",
   "execution_count": 15,
   "metadata": {
    "collapsed": true,
    "tags": [
     "@solution"
    ]
   },
   "outputs": [],
   "source": [
    "# Your solution code. This won't be shown to the student.\n",
    "\n",
    "# The @solution should mirror the corresponding @sample_code,\n",
    "# but with the missing parts filled in.\n",
    "like_this <- \"missing part filled in\"\n",
    "\n",
    "# It should consist of up to 10 lines of code and comments \n",
    "# and take at most 5 seconds to execute on an average laptop."
   ]
  },
  {
   "cell_type": "code",
   "execution_count": 16,
   "metadata": {
    "tags": [
     "@tests"
    ]
   },
   "outputs": [
    {
     "data": {
      "application/json": "{\"success\":true,\"summary\":{\"tests\":1,\"failures\":0,\"errors\":0},\"tests\":[{\"name\":\"the answer is correct\",\"message\":\"like_this == \\\"missing part filled in\\\" isn't true.\\nThe student will see this info if the test fails.\",\"success\":true,\"outcome\":\"success\"}]}"
     },
     "metadata": {},
     "output_type": "display_data"
    },
    {
     "data": {
      "application/json": "{\"success\":true,\"summary\":{\"tests\":1,\"failures\":0,\"errors\":0},\"tests\":[{\"name\":\"the answer is correct\",\"message\":\"like_this == \\\"missing part filled in\\\" isn't true.\\nThe student will see this info if the test fails.\",\"success\":true,\"outcome\":\"success\"}]}"
     },
     "metadata": {},
     "output_type": "display_data"
    },
    {
     "data": {
      "text/plain": [
       "1/1 tests passed"
      ]
     },
     "metadata": {},
     "output_type": "display_data"
    }
   ],
   "source": [
    "# one or more tests of the students code. \n",
    "# The @solution should pass the tests.\n",
    "# The purpose of the tests is to try to catch common errors and to \n",
    "# give the student a hint on how to resolve these errors.\n",
    "run_tests({\n",
    "    test_that(\"the answer is correct\", {\n",
    "    expect_true(like_this == \"missing part filled in\", \n",
    "        info = \"The student will see this info if the test fails.\")\n",
    "    })\n",
    "    # You can have more than one test\n",
    "})"
   ]
  },
  {
   "cell_type": "markdown",
   "metadata": {
    "tags": [
     "type:NotebookTask"
    ]
   },
   "source": [
    "## 6. Here goes the title of the sixth task"
   ]
  },
  {
   "cell_type": "markdown",
   "metadata": {
    "tags": [
     "@context"
    ]
   },
   "source": [
    "Context / background / story / etc. This will show up in the student's notebook. It should at most have 800 characters and/or 3 paragraphs."
   ]
  },
  {
   "cell_type": "markdown",
   "metadata": {
    "tags": [
     "@instructions"
    ]
   },
   "source": [
    "The task instructions start with a brief sentence framing the task.\n",
    "\n",
    "- The specific task instructions go in a bullet point list.\n",
    "- One bullet per sub task.\n",
    "- At most 4 bullets.\n",
    "\n",
    "<hr>\n",
    "\n",
    "Give more info, context, and links to external documentation under the horizontal ruler. The instructions should at most have 800 characters."
   ]
  },
  {
   "cell_type": "markdown",
   "metadata": {
    "tags": [
     "@hint"
    ]
   },
   "source": [
    "This is a hint the student will get if they click the hint button at the bottom of the instructions. It's the last help the student can get, so make it helpful. \n",
    "\n",
    "```\n",
    "# Feel free to include links to documentation.\n",
    "print(\"And code snippets in the hint.\")\n",
    "```"
   ]
  },
  {
   "cell_type": "code",
   "execution_count": 17,
   "metadata": {
    "collapsed": true,
    "tags": [
     "@sample_code"
    ]
   },
   "outputs": [],
   "source": [
    "# This is the sample code the student will see. It should\n",
    "# consist of up to 10 lines of code and comments, and the\n",
    "# student should have to complete at most 5 lines of code.\n",
    "\n",
    "# Rule of thumb: Each bullet point in @instructions should\n",
    "# correspond to a comment in the @sample_code\n",
    "\n",
    "# Indicate missing code with ....\n",
    "like_this <- ....\n",
    "# or when a line or more is required, like this:\n",
    "# .... YOUR CODE FOR TASK 6 ...."
   ]
  },
  {
   "cell_type": "code",
   "execution_count": 18,
   "metadata": {
    "collapsed": true,
    "tags": [
     "@solution"
    ]
   },
   "outputs": [],
   "source": [
    "# Your solution code. This won't be shown to the student.\n",
    "\n",
    "# The @solution should mirror the corresponding @sample_code,\n",
    "# but with the missing parts filled in.\n",
    "like_this <- \"missing part filled in\"\n",
    "\n",
    "# It should consist of up to 10 lines of code and comments \n",
    "# and take at most 5 seconds to execute on an average laptop."
   ]
  },
  {
   "cell_type": "code",
   "execution_count": 19,
   "metadata": {
    "tags": [
     "@tests"
    ]
   },
   "outputs": [
    {
     "data": {
      "application/json": "{\"success\":true,\"summary\":{\"tests\":1,\"failures\":0,\"errors\":0},\"tests\":[{\"name\":\"the answer is correct\",\"message\":\"like_this == \\\"missing part filled in\\\" isn't true.\\nThe student will see this info if the test fails.\",\"success\":true,\"outcome\":\"success\"}]}"
     },
     "metadata": {},
     "output_type": "display_data"
    },
    {
     "data": {
      "application/json": "{\"success\":true,\"summary\":{\"tests\":1,\"failures\":0,\"errors\":0},\"tests\":[{\"name\":\"the answer is correct\",\"message\":\"like_this == \\\"missing part filled in\\\" isn't true.\\nThe student will see this info if the test fails.\",\"success\":true,\"outcome\":\"success\"}]}"
     },
     "metadata": {},
     "output_type": "display_data"
    },
    {
     "data": {
      "text/plain": [
       "1/1 tests passed"
      ]
     },
     "metadata": {},
     "output_type": "display_data"
    }
   ],
   "source": [
    "# one or more tests of the students code. \n",
    "# The @solution should pass the tests.\n",
    "# The purpose of the tests is to try to catch common errors and to \n",
    "# give the student a hint on how to resolve these errors.\n",
    "run_tests({\n",
    "    test_that(\"the answer is correct\", {\n",
    "    expect_true(like_this == \"missing part filled in\", \n",
    "        info = \"The student will see this info if the test fails.\")\n",
    "    })\n",
    "    # You can have more than one test\n",
    "})"
   ]
  },
  {
   "cell_type": "markdown",
   "metadata": {
    "tags": [
     "type:NotebookTask"
    ]
   },
   "source": [
    "## 7. Here goes the title of the seventh task"
   ]
  },
  {
   "cell_type": "markdown",
   "metadata": {
    "tags": [
     "@context"
    ]
   },
   "source": [
    "Context / background / story / etc. This will show up in the student's notebook. It should at most have 800 characters and/or 3 paragraphs."
   ]
  },
  {
   "cell_type": "markdown",
   "metadata": {
    "tags": [
     "@instructions"
    ]
   },
   "source": [
    "The task instructions start with a brief sentence framing the task.\n",
    "\n",
    "- The specific task instructions go in a bullet point list.\n",
    "- One bullet per sub task.\n",
    "- At most 4 bullets.\n",
    "\n",
    "<hr>\n",
    "\n",
    "Give more info, context, and links to external documentation under the horizontal ruler. The instructions should at most have 800 characters."
   ]
  },
  {
   "cell_type": "markdown",
   "metadata": {
    "tags": [
     "@hint"
    ]
   },
   "source": [
    "This is a hint the student will get if they click the hint button at the bottom of the instructions. It's the last help the student can get, so make it helpful. \n",
    "\n",
    "```\n",
    "# Feel free to include links to documentation.\n",
    "print(\"And code snippets in the hint.\")\n",
    "```"
   ]
  },
  {
   "cell_type": "code",
   "execution_count": 20,
   "metadata": {
    "collapsed": true,
    "tags": [
     "@sample_code"
    ]
   },
   "outputs": [],
   "source": [
    "# This is the sample code the student will see. It should\n",
    "# consist of up to 10 lines of code and comments, and the\n",
    "# student should have to complete at most 5 lines of code.\n",
    "\n",
    "# Rule of thumb: Each bullet point in @instructions should\n",
    "# correspond to a comment in the @sample_code\n",
    "\n",
    "# Indicate missing code with ...\n",
    "like_this <- ....\n",
    "# or when a line or more is required, like this:\n",
    "# .... YOUR CODE FOR TASK 7 ...."
   ]
  },
  {
   "cell_type": "code",
   "execution_count": 21,
   "metadata": {
    "collapsed": true,
    "tags": [
     "@solution"
    ]
   },
   "outputs": [],
   "source": [
    "# Your solution code. This won't be shown to the student.\n",
    "\n",
    "# The @solution should mirror the corresponding @sample_code,\n",
    "# but with the missing parts filled in.\n",
    "like_this <- \"missing part filled in\"\n",
    "\n",
    "# It should consist of up to 10 lines of code and comments \n",
    "# and take at most 5 seconds to execute on an average laptop."
   ]
  },
  {
   "cell_type": "code",
   "execution_count": 22,
   "metadata": {
    "tags": [
     "@tests"
    ]
   },
   "outputs": [
    {
     "data": {
      "application/json": "{\"success\":true,\"summary\":{\"tests\":1,\"failures\":0,\"errors\":0},\"tests\":[{\"name\":\"the answer is correct\",\"message\":\"like_this == \\\"missing part filled in\\\" isn't true.\\nThe student will see this info if the test fails.\",\"success\":true,\"outcome\":\"success\"}]}"
     },
     "metadata": {},
     "output_type": "display_data"
    },
    {
     "data": {
      "application/json": "{\"success\":true,\"summary\":{\"tests\":1,\"failures\":0,\"errors\":0},\"tests\":[{\"name\":\"the answer is correct\",\"message\":\"like_this == \\\"missing part filled in\\\" isn't true.\\nThe student will see this info if the test fails.\",\"success\":true,\"outcome\":\"success\"}]}"
     },
     "metadata": {},
     "output_type": "display_data"
    },
    {
     "data": {
      "text/plain": [
       "1/1 tests passed"
      ]
     },
     "metadata": {},
     "output_type": "display_data"
    }
   ],
   "source": [
    "# one or more tests of the students code. \n",
    "# The @solution should pass the tests.\n",
    "# The purpose of the tests is to try to catch common errors and to \n",
    "# give the student a hint on how to resolve these errors.\n",
    "run_tests({\n",
    "    test_that(\"the answer is correct\", {\n",
    "    expect_true(like_this == \"missing part filled in\", \n",
    "        info = \"The student will see this info if the test fails.\")\n",
    "    })\n",
    "    # You can have more than one test\n",
    "})"
   ]
  },
  {
   "cell_type": "markdown",
   "metadata": {
    "tags": [
     "type:NotebookTask"
    ]
   },
   "source": [
    "## 8. Here goes the title of the eighth task"
   ]
  },
  {
   "cell_type": "markdown",
   "metadata": {
    "tags": [
     "@context"
    ]
   },
   "source": [
    "Context / background / story / etc. This will show up in the student's notebook. It should at most have 800 characters and/or 3 paragraphs."
   ]
  },
  {
   "cell_type": "markdown",
   "metadata": {
    "tags": [
     "@instructions"
    ]
   },
   "source": [
    "The task instructions start with a brief sentence framing the task.\n",
    "\n",
    "- The specific task instructions go in a bullet point list.\n",
    "- One bullet per sub task.\n",
    "- At most 4 bullets.\n",
    "\n",
    "<hr>\n",
    "\n",
    "Give more info, context, and links to external documentation under the horizontal ruler. The instructions should at most have 800 characters."
   ]
  },
  {
   "cell_type": "markdown",
   "metadata": {
    "tags": [
     "@hint"
    ]
   },
   "source": [
    "This is a hint the student will get if they click the hint button at the bottom of the instructions. It's the last help the student can get, so make it helpful. \n",
    "\n",
    "```\n",
    "# Feel free to include links to documentation.\n",
    "print(\"And code snippets in the hint.\")\n",
    "```"
   ]
  },
  {
   "cell_type": "code",
   "execution_count": 23,
   "metadata": {
    "collapsed": true,
    "tags": [
     "@sample_code"
    ]
   },
   "outputs": [],
   "source": [
    "# This is the sample code the student will see. It should\n",
    "# consist of up to 10 lines of code and comments, and the\n",
    "# student should have to complete at most 5 lines of code.\n",
    "\n",
    "# Rule of thumb: Each bullet point in @instructions should\n",
    "# correspond to a comment in the @sample_code\n",
    "\n",
    "# Indicate missing code with ...\n",
    "like_this <- ....\n",
    "# or when a line or more is required, like this:\n",
    "# .... YOUR CODE FOR TASK 8 ...."
   ]
  },
  {
   "cell_type": "code",
   "execution_count": 24,
   "metadata": {
    "collapsed": true,
    "tags": [
     "@solution"
    ]
   },
   "outputs": [],
   "source": [
    "# Your solution code. This won't be shown to the student.\n",
    "\n",
    "# The @solution should mirror the corresponding @sample_code,\n",
    "# but with the missing parts filled in.\n",
    "like_this <- \"missing part filled in\"\n",
    "\n",
    "# It should consist of up to 10 lines of code and comments \n",
    "# and take at most 5 seconds to execute on an average laptop."
   ]
  },
  {
   "cell_type": "code",
   "execution_count": 25,
   "metadata": {
    "tags": [
     "@tests"
    ]
   },
   "outputs": [
    {
     "data": {
      "application/json": "{\"success\":true,\"summary\":{\"tests\":1,\"failures\":0,\"errors\":0},\"tests\":[{\"name\":\"the answer is correct\",\"message\":\"like_this == \\\"missing part filled in\\\" isn't true.\\nThe student will see this info if the test fails.\",\"success\":true,\"outcome\":\"success\"}]}"
     },
     "metadata": {},
     "output_type": "display_data"
    },
    {
     "data": {
      "application/json": "{\"success\":true,\"summary\":{\"tests\":1,\"failures\":0,\"errors\":0},\"tests\":[{\"name\":\"the answer is correct\",\"message\":\"like_this == \\\"missing part filled in\\\" isn't true.\\nThe student will see this info if the test fails.\",\"success\":true,\"outcome\":\"success\"}]}"
     },
     "metadata": {},
     "output_type": "display_data"
    },
    {
     "data": {
      "text/plain": [
       "1/1 tests passed"
      ]
     },
     "metadata": {},
     "output_type": "display_data"
    }
   ],
   "source": [
    "# one or more tests of the students code. \n",
    "# The @solution should pass the tests.\n",
    "# The purpose of the tests is to try to catch common errors and to \n",
    "# give the student a hint on how to resolve these errors.\n",
    "run_tests({\n",
    "    test_that(\"the answer is correct\", {\n",
    "    expect_true(like_this == \"missing part filled in\", \n",
    "        info = \"The student will see this info if the test fails.\")\n",
    "    })\n",
    "    # You can have more than one test\n",
    "})"
   ]
  },
  {
   "cell_type": "markdown",
   "metadata": {},
   "source": [
    "*The recommended number of tasks in a DataCamp Project is between 8 and 10, so feel free to add more if necessary. You can't have more than 12 tasks.*"
   ]
  }
 ],
 "metadata": {
  "anaconda-cloud": {},
  "celltoolbar": "Tags",
  "kernelspec": {
   "display_name": "R",
   "language": "R",
   "name": "ir"
  },
  "language_info": {
   "codemirror_mode": "r",
   "file_extension": ".r",
   "mimetype": "text/x-r-source",
   "name": "R",
   "pygments_lexer": "r",
   "version": "3.3.1"
  }
 },
 "nbformat": 4,
 "nbformat_minor": 2
}
